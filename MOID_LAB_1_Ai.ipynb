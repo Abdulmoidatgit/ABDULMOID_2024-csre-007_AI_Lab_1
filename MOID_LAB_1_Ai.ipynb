{
 "cells": [
  {
   "cell_type": "code",
   "execution_count": 1,
   "id": "8f1c0cdc-3aab-41f8-81a2-1f4defd8c303",
   "metadata": {},
   "outputs": [
    {
     "name": "stdout",
     "output_type": "stream",
     "text": [
      "hello word:\n"
     ]
    }
   ],
   "source": [
    "print(\"hello word:\")"
   ]
  },
  {
   "cell_type": "code",
   "execution_count": 6,
   "id": "3813ff16-ba1f-43ac-9f09-f87d97f341f0",
   "metadata": {},
   "outputs": [
    {
     "name": "stdout",
     "output_type": "stream",
     "text": [
      "name: Maryam Naeem\n",
      "roll_number: 10\n",
      "cgpa: 3.8\n"
     ]
    }
   ],
   "source": [
    "name = \"Maryam Naeem\"\n",
    "roll_number = 10\n",
    "cgpa = 3.8\n",
    "\n",
    "print(\"name:\", name)\n",
    "print(\"roll_number:\", roll_number)\n",
    "print(\"cgpa:\", cgpa)\n"
   ]
  },
  {
   "cell_type": "code",
   "execution_count": 9,
   "id": "6703d58f-d23e-4eae-898a-e5dbba50cdc1",
   "metadata": {},
   "outputs": [
    {
     "name": "stdout",
     "output_type": "stream",
     "text": [
      "1\n",
      "2\n",
      "3\n",
      "4\n",
      "5\n",
      "6\n",
      "7\n",
      "8\n",
      "9\n",
      "10\n"
     ]
    }
   ],
   "source": [
    "# Print numbers from 1 to 10\n",
    "for i in range(1, 11):\n",
    "    print(i)\n"
   ]
  },
  {
   "cell_type": "code",
   "execution_count": 11,
   "id": "45cce3dd-ea43-4c89-8d4e-59f5ddbce5d3",
   "metadata": {},
   "outputs": [
    {
     "name": "stdout",
     "output_type": "stream",
     "text": [
      "factorial(5): 120\n"
     ]
    }
   ],
   "source": [
    "# Function to calculate factorial\n",
    "def factorial(n):\n",
    "    result = 1\n",
    "    for i in range(1, n + 1):\n",
    "        result *= i\n",
    "    return result\n",
    "\n",
    "print(\"factorial(5):\", factorial(5))\n"
   ]
  },
  {
   "cell_type": "code",
   "execution_count": 14,
   "id": "5f01f1dd-2fef-47e5-b963-91997ae474ce",
   "metadata": {},
   "outputs": [
    {
     "name": "stdin",
     "output_type": "stream",
     "text": [
      "Enter marks:  60\n"
     ]
    },
    {
     "name": "stdout",
     "output_type": "stream",
     "text": [
      "pass\n"
     ]
    }
   ],
   "source": [
    "marks = int(input(\"Enter marks: \"))  # ✅ Assign input to `marks`\n",
    "\n",
    "if marks >= 50:                      # ✅ Proper `if` condition\n",
    "    print(\"pass\")\n",
    "else:\n",
    "    print(\"fail\")\n"
   ]
  },
  {
   "cell_type": "code",
   "execution_count": null,
   "id": "31e356b1-c6bb-436e-beb4-650c43c4a58f",
   "metadata": {},
   "outputs": [],
   "source": []
  }
 ],
 "metadata": {
  "kernelspec": {
   "display_name": "Python 3 (ipykernel)",
   "language": "python",
   "name": "python3"
  },
  "language_info": {
   "codemirror_mode": {
    "name": "ipython",
    "version": 3
   },
   "file_extension": ".py",
   "mimetype": "text/x-python",
   "name": "python",
   "nbconvert_exporter": "python",
   "pygments_lexer": "ipython3",
   "version": "3.13.5"
  }
 },
 "nbformat": 4,
 "nbformat_minor": 5
}
